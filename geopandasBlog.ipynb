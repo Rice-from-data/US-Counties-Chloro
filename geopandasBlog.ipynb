{
  "nbformat": 4,
  "nbformat_minor": 0,
  "metadata": {
    "colab": {
      "name": "geopandasBlog.ipynb",
      "version": "0.3.2",
      "provenance": [],
      "toc_visible": true,
      "include_colab_link": true
    },
    "kernelspec": {
      "display_name": "Python 3",
      "language": "python",
      "name": "python3"
    }
  },
  "cells": [
    {
      "cell_type": "markdown",
      "metadata": {
        "id": "view-in-github",
        "colab_type": "text"
      },
      "source": [
        "<a href=\"https://colab.research.google.com/github/biovir3/US-Counties-Chloro/blob/master/geopandasBlog.ipynb\" target=\"_parent\"><img src=\"https://colab.research.google.com/assets/colab-badge.svg\" alt=\"Open In Colab\"/></a>"
      ]
    },
    {
      "metadata": {
        "id": "rT2jog57Aq1r",
        "colab_type": "text"
      },
      "cell_type": "markdown",
      "source": [
        "## This is the Blog Post that I wish I had found when I was working on this.\n",
        "I started with a, wait no, I did not start with a goal in mind, but I knew that I wanted something with a lot of Data.\n",
        "As I was thinking, I thought wait there are a lot of Counties in the USA. there are only 50 states, so that is not good enough.\n",
        "\n",
        "Immediatly I thought of the Census data. I googled it, and found Census info for the 2000 census immediatly.\n",
        "I poked around a bit, and found the data broken down by individual counties in the USA. As it turns out there\n",
        "are a few more than 50 counties, so I thought Hey, I can work with this!!!\n",
        "\n",
        "Now the Fun stuff begins.\n",
        "I had already found geodata shape files for all of the countries in the world, and in that set I found a shape file\n",
        "with the counties for every state in the US.\n",
        "\n",
        "(Don't worry, I will introduce all of the locations where I got the information when I am going through the Code.)\n",
        "\n",
        "Once I gathered all of the data files in one place, I had to find a way to stitch them together.\n",
        "I must admidt I was quite naive when I started this, and I didn't think that multiple states had the counties with the same name.\n",
        "I won't go in to that, Maybe as a Bonus at the end to show how important it is to plan instead of jumping headfirst.\n",
        "(Luckily I have a pretty hard Head, but there are stories to go with that that are beyond the scope of this Blog)\n",
        "\n",
        "Now I have the Data, and I bumbled my way into merging the datasets, so that I could plot the data with Color Variations \n",
        "on each county based on the Data I selected.\n",
        "\n",
        "I plot the Data, It doesn't look right.\n",
        "I think well I need to set the Color Map aka cmap=.\n",
        "I set it, and things looked better, but still didn't look right at all.\n",
        "\n",
        "(Insert pictures here and code...)\n",
        "\n",
        "Turning back to google, I attempted to pull a rabbit out of my hat, but nothing was coming up that looked relevant.\n",
        "Search after search, the browser tabs were getting smaller as more tabs were opened.\n",
        "\n",
        "After 20 or so mins, I found a page that talks about vmin, and vmax.\n",
        "\n",
        "These are two variables that are set in the df.plot method. These variables set the boundary of the color map.\n",
        "it would be nice if all of these advanced libraries that build on other libraries didn't leave out this info.\n",
        "\n",
        "But to their point, I should have started with learning the in's and out's of matplotlib before jumping into deep water.\n",
        "\n",
        "Hey I am sort of here to make the mistakes and showing you the cool answers I got to questions that you may or may not have asked.\n",
        "\n",
        "(This will be split up and edited)\n",
        "\n",
        "First we need to import what we are going to use.\n",
        "Second we need to pull in our data\n",
        "Third we need to link the two data frames together in order to work with the information.\n",
        "Fourth we need to set the plotting options inorder to get a Pretty Print of the information.\n",
        "Fifth we need to set a Legend up so we can easily know more about what is going on.\n",
        "\n",
        "And the last thing we need to do is output our visualizations."
      ]
    },
    {
      "metadata": {
        "id": "VY-UGJuRAsSk",
        "colab_type": "code",
        "colab": {}
      },
      "cell_type": "code",
      "source": [
        "import numpy as np\n",
        "import pandas as pd\n",
        "import matplotlib.pyplot as plt\n",
        "import geopandas as gpd"
      ],
      "execution_count": 0,
      "outputs": []
    },
    {
      "metadata": {
        "id": "G6KBP4h9BEDA",
        "colab_type": "code",
        "colab": {}
      },
      "cell_type": "code",
      "source": [
        ""
      ],
      "execution_count": 0,
      "outputs": []
    },
    {
      "metadata": {
        "id": "dFaXQ2TIAq1t",
        "colab_type": "code",
        "colab": {}
      },
      "cell_type": "code",
      "source": [
        "county_shape = '../../../Documents/School/Lambda School/Datasets/Census/cb_2017_us_county_5m.shp'\n",
        "data = gpd.read_file(county_shape)\n",
        "plt.axis(-180,-50,0,90)"
      ],
      "execution_count": 0,
      "outputs": []
    },
    {
      "metadata": {
        "id": "LaZEY9z6Aq1x",
        "colab_type": "code",
        "colab": {}
      },
      "cell_type": "code",
      "source": [
        "#fig, ax = plt.subplots(figsize = (30,30))\n",
        "#ax.set_xlim([-180,-50])\n",
        "#ax.set_ylim([18,90])\n",
        "#data.plot(figsize=(30,30), ax=ax)"
      ],
      "execution_count": 0,
      "outputs": []
    },
    {
      "metadata": {
        "id": "sUr5RKBfAq10",
        "colab_type": "code",
        "colab": {}
      },
      "cell_type": "code",
      "source": [
        "census_data = pd.read_csv('../../../Documents/School/Lambda School/Datasets/Census/DEC_00_SF1_GCTPH1.US05PR_with_ann.csv', encoding='cp437', skiprows=1)"
      ],
      "execution_count": 0,
      "outputs": []
    },
    {
      "metadata": {
        "id": "QmQjfXhpAq13",
        "colab_type": "code",
        "colab": {}
      },
      "cell_type": "code",
      "source": [
        "merged = data.merge(census_data, left_on='AFFGEOID', right_on='Target Geo Id', how = 'inner')\n",
        "merged.info()"
      ],
      "execution_count": 0,
      "outputs": []
    },
    {
      "metadata": {
        "id": "VNt8b9mOAq16",
        "colab_type": "code",
        "colab": {}
      },
      "cell_type": "code",
      "source": [
        "merged['PopHou'] = merged['Population'] / merged['Housing  units']"
      ],
      "execution_count": 0,
      "outputs": []
    },
    {
      "metadata": {
        "id": "u5lbSpywAq19",
        "colab_type": "code",
        "colab": {}
      },
      "cell_type": "code",
      "source": [
        "merged['WaterLand'] = merged['Area in square miles - Land area'] - merged['Area in square miles - Water area']"
      ],
      "execution_count": 0,
      "outputs": []
    },
    {
      "metadata": {
        "id": "qym834jiAq2C",
        "colab_type": "code",
        "colab": {}
      },
      "cell_type": "code",
      "source": [
        "fig, ax = plt.subplots(figsize = (30,30))\n",
        "ax.set_xlim([-180,-50])\n",
        "ax.set_ylim([18,90])\n",
        "merged.plot(column = 'WaterLand', figsize=(30,30), ax=ax, cmap='plasma', vmin = -5000, vmax = 9000)"
      ],
      "execution_count": 0,
      "outputs": []
    },
    {
      "metadata": {
        "id": "350gGpOdAq2E",
        "colab_type": "code",
        "colab": {}
      },
      "cell_type": "code",
      "source": [
        ""
      ],
      "execution_count": 0,
      "outputs": []
    },
    {
      "metadata": {
        "id": "PYZ9xBLlAq2I",
        "colab_type": "code",
        "colab": {}
      },
      "cell_type": "code",
      "source": [
        ""
      ],
      "execution_count": 0,
      "outputs": []
    },
    {
      "metadata": {
        "id": "YiDQCdN6Aq2M",
        "colab_type": "code",
        "colab": {}
      },
      "cell_type": "code",
      "source": [
        ""
      ],
      "execution_count": 0,
      "outputs": []
    },
    {
      "metadata": {
        "id": "-a0rzwPAAq2Q",
        "colab_type": "code",
        "colab": {}
      },
      "cell_type": "code",
      "source": [
        ""
      ],
      "execution_count": 0,
      "outputs": []
    },
    {
      "metadata": {
        "id": "vs1hPpPcAq2S",
        "colab_type": "code",
        "colab": {}
      },
      "cell_type": "code",
      "source": [
        ""
      ],
      "execution_count": 0,
      "outputs": []
    }
  ]
}